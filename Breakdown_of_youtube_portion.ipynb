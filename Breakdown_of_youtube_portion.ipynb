{
  "nbformat": 4,
  "nbformat_minor": 0,
  "metadata": {
    "colab": {
      "name": "Breakdown_of_youtube_portion.ipynb",
      "provenance": [],
      "collapsed_sections": [],
      "authorship_tag": "ABX9TyMai8aKg4pZxdCjgJk8QJLW",
      "include_colab_link": true
    },
    "kernelspec": {
      "name": "python3",
      "display_name": "Python 3"
    },
    "language_info": {
      "name": "python"
    }
  },
  "cells": [
    {
      "cell_type": "markdown",
      "metadata": {
        "id": "view-in-github",
        "colab_type": "text"
      },
      "source": [
        "<a href=\"https://colab.research.google.com/github/anmeex/Break-down-of-portion-of-youtube/blob/main/Breakdown_of_youtube_portion.ipynb\" target=\"_parent\"><img src=\"https://colab.research.google.com/assets/colab-badge.svg\" alt=\"Open In Colab\"/></a>"
      ]
    },
    {
      "cell_type": "markdown",
      "metadata": {
        "id": "D0LXRrChA8pt"
      },
      "source": [
        "**RUN THIS CELL AND PASTE YOUR YOUTUBE VIDEO LINK**\n",
        "\n",
        "\n",
        "\n",
        "\n",
        "\n",
        "---\n",
        "\n"
      ]
    },
    {
      "cell_type": "code",
      "metadata": {
        "id": "9aJ2Hp9h_lCP"
      },
      "source": [
        "#@title Paste your youtube link and run\n",
        "! pip install youtube-dl\n",
        "! pip install ffmpeg\n",
        "\n",
        "import youtube_dl\n",
        "youtubelink    = \"\" #@param {type:\"string\"}\n",
        "print(youtubelink)"
      ],
      "execution_count": null,
      "outputs": []
    },
    {
      "cell_type": "markdown",
      "metadata": {
        "id": "vwm3uqTCChlZ"
      },
      "source": [
        "**RUN THIS CELL TO CHECK THE FORMAT CODE**\n",
        "\n",
        "---\n",
        "Format codes are in the left.\n",
        "\n"
      ]
    },
    {
      "cell_type": "code",
      "metadata": {
        "id": "RdChAZV2BiX8"
      },
      "source": [
        "!youtube-dl -F \"{youtubelink}\""
      ],
      "execution_count": null,
      "outputs": []
    },
    {
      "cell_type": "markdown",
      "metadata": {
        "id": "X8bEIzRZDcLc"
      },
      "source": [
        "**Get the link for the BEST FORMAT**\n",
        "\n",
        "---\n",
        "\n",
        "\n",
        "(i.e At the end in the list)\n",
        "\n",
        "It already contains both video and audio.\n",
        "\n",
        "In this case,you can **GET THE LINK** of that format by just changing the format code.\n",
        "\n",
        "!youtube-dl --get-url -f ***formatcode*** Your  Youtube Link\n",
        "\n",
        "most of time best format codes are **22 or 18**"
      ]
    },
    {
      "cell_type": "code",
      "metadata": {
        "id": "edGkx2jan7F5"
      },
      "source": [
        "format_code =  701#@param {type:\"number\"}"
      ],
      "execution_count": 51,
      "outputs": []
    },
    {
      "cell_type": "code",
      "metadata": {
        "id": "iCJiLOpD35Gi"
      },
      "source": [
        "!youtube-dl --get-url -f {format_code} {youtubelink}"
      ],
      "execution_count": null,
      "outputs": []
    },
    {
      "cell_type": "markdown",
      "metadata": {
        "id": "Ee6bhgs5L0fq"
      },
      "source": [
        "**PASTE THE GENRATED LINK**\n",
        "\n",
        "---\n"
      ]
    },
    {
      "cell_type": "code",
      "metadata": {
        "id": "eb3qzIfNL_zH"
      },
      "source": [
        "genlink1    = \"\" #@param {type:\"string\"}\n"
      ],
      "execution_count": 53,
      "outputs": []
    },
    {
      "cell_type": "markdown",
      "metadata": {
        "id": "DgXI_hMzJUrw"
      },
      "source": [
        "**INPUT THE START AND END TIME**\n",
        "\n",
        "\n",
        "---\n",
        "\n"
      ]
    },
    {
      "cell_type": "code",
      "metadata": {
        "id": "aw5lgeRbubeF"
      },
      "source": [
        "#@title Date fields\n",
        "import datetime\n",
        "\n",
        "#@markdown **Start time**\n",
        "start_time_hour =  0#@param {type:\"number\"} \n",
        "start_time_minute =  00#@param {type:\"number\"}\n",
        "start_time_second =   10#@param {type:\"number\"}\n",
        "\n",
        "#@markdown **End time**\n",
        "\n",
        "end_time_hour =  0#@param {type:\"number\"} \n",
        "end_time_minute =  00#@param {type:\"number\"}\n",
        "end_time_second =  20#@param {type:\"number\"}\n",
        "\n",
        "startTime = datetime.time(start_time_hour,start_time_minute,start_time_second)\n",
        "endTime = datetime.time(end_time_hour,end_time_minute,end_time_second)\n",
        "\n",
        "diff = datetime.timedelta(hours=(endTime.hour-startTime.hour),minutes=(endTime.minute-startTime.minute),seconds=(endTime.second-startTime.second))\n",
        "print(diff)"
      ],
      "execution_count": null,
      "outputs": []
    },
    {
      "cell_type": "markdown",
      "metadata": {
        "id": "lgKvYd5BLD_4"
      },
      "source": [
        "**RUN THIS CELL TO DOWNLOAD THE PORTION OF VIDEO**\n",
        "\n",
        "\n",
        "---\n",
        "\n",
        "\n"
      ]
    },
    {
      "cell_type": "code",
      "metadata": {
        "id": "6nWvmdYalnQT"
      },
      "source": [
        "!ffmpeg -ss {startTime} -i \"{genlink1}\" -t {diff} -c:v libx264 -c:a aac output.mp4"
      ],
      "execution_count": null,
      "outputs": []
    },
    {
      "cell_type": "markdown",
      "metadata": {
        "id": "sePlykJaQhYJ"
      },
      "source": [
        "**IF YOU ARE NOT SATISFY WITH THE BEST FORMAT**\n",
        "\n",
        "choose ***format code*** for video only and audio only separately"
      ]
    },
    {
      "cell_type": "code",
      "metadata": {
        "id": "lGM2uLaQRpfe"
      },
      "source": [
        "!youtube-dl -F \"{youtubelink}\""
      ],
      "execution_count": null,
      "outputs": []
    },
    {
      "cell_type": "markdown",
      "metadata": {
        "id": "-KulHGkFNFBP"
      },
      "source": [
        "**GET THE LINK FOR VIDEO ONLY**\n",
        "\n",
        "\n",
        "---\n",
        "\n",
        "\n",
        "\n",
        "find the format code for video only from the list and change it in\n",
        "\n",
        "!youtube-dl --get-url -f **FormatCodeForVideoOnly** {youtubelink}"
      ]
    },
    {
      "cell_type": "code",
      "metadata": {
        "id": "E_x9T2pPxei5"
      },
      "source": [
        "format_code_video_only =  299#@param {type:\"number\"} "
      ],
      "execution_count": 31,
      "outputs": []
    },
    {
      "cell_type": "code",
      "metadata": {
        "id": "PDLXJSJi868R"
      },
      "source": [
        "!youtube-dl --get-url -f {format_code_video_only} {youtubelink}"
      ],
      "execution_count": null,
      "outputs": []
    },
    {
      "cell_type": "markdown",
      "metadata": {
        "id": "gBHzK_m4NipT"
      },
      "source": [
        "**GET THE LINK FOR AUDIO ONLY**\n",
        "\n",
        "\n",
        "---\n",
        "\n",
        "\n",
        "find the format code for audio only from the list and change it in\n",
        "\n",
        "!youtube-dl --get-url -f **FormatCodeforAudioOnly** {youtubelink}"
      ]
    },
    {
      "cell_type": "code",
      "metadata": {
        "id": "3TKlAVEG9AF-"
      },
      "source": [
        "!youtube-dl --get-url -f {format_code_audio_only} {youtubelink}"
      ],
      "execution_count": null,
      "outputs": []
    },
    {
      "cell_type": "markdown",
      "metadata": {
        "id": "TGdZPBiwNukP"
      },
      "source": [
        "**PASTE THE VIDEO AND AUDIO LINK**"
      ]
    },
    {
      "cell_type": "code",
      "metadata": {
        "id": "celKzS6d8VhM"
      },
      "source": [
        "\n",
        "videolink    = \"\" #@param {type:\"string\"}\n",
        "audiolink    = \"\" #@param {type:\"string\"}"
      ],
      "execution_count": 35,
      "outputs": []
    },
    {
      "cell_type": "markdown",
      "metadata": {
        "id": "vekuZ7v_N6UO"
      },
      "source": [
        "**RUN THIS CELL TO DOWNLOAD THE PORTION OF VIDEO**\n",
        "\n",
        "\n",
        "---\n",
        "\n",
        "\n"
      ]
    },
    {
      "cell_type": "code",
      "metadata": {
        "id": "MGjttPHL6pxE"
      },
      "source": [
        "!ffmpeg -ss {startTime} -i \"{videolink}\" -ss {startTime} -i \"{audiolink}\" -t {diff} -map 0:v -map 1:a -c:v libx264 -c:a aac output.mp4"
      ],
      "execution_count": null,
      "outputs": []
    }
  ]
}